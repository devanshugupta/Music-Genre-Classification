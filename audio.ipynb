{
 "cells": [
  {
   "cell_type": "code",
   "execution_count": 1,
   "metadata": {},
   "outputs": [
    {
     "name": "stderr",
     "output_type": "stream",
     "text": [
      "Using TensorFlow backend.\n"
     ]
    }
   ],
   "source": [
    "# Preprocessing\n",
    "from sklearn.model_selection import train_test_split\n",
    "from sklearn.preprocessing import LabelEncoder, StandardScaler, RobustScaler\n",
    "\n",
    "#Keras\n",
    "import keras\n",
    "\n",
    "import warnings\n",
    "warnings.filterwarnings('ignore')\n",
    "\n",
    "from sklearn.svm import SVC\n"
   ]
  },
  {
   "cell_type": "code",
   "execution_count": 2,
   "metadata": {},
   "outputs": [],
   "source": [
    "import matplotlib.pyplot as plt\n",
    "%matplotlib inline\n",
    "import numpy as np\n",
    "import pandas as pd\n",
    "import librosa as lr\n",
    "import librosa.display\n",
    "from IPython.display import Audio\n",
    "from glob import glob\n",
    "import scipy\n",
    "import scipy.linalg\n",
    "import scipy.stats\n",
    "\n",
    "from scipy import stats\n",
    "\n",
    "import os\n",
    "from PIL import Image\n",
    "import pathlib\n",
    "import csv\n"
   ]
  },
  {
   "cell_type": "markdown",
   "metadata": {},
   "source": [
    "cmap = plt.get_cmap('inferno')\n",
    "\n",
    "plt.figure(figsize=(10,10))\n",
    "genres = 'blues classical country disco hiphop jazz metal pop reggae rock'.split()\n",
    "for g in genres:\n",
    "    pathlib.Path(f'img_data/{g}').mkdir(parents=True, exist_ok=True)     \n",
    "    for filename in os.listdir(f'G:/genres/{g}'):\n",
    "        songname = f'G:/genres/{g}/{filename}'\n",
    "        y, sr = librosa.load(songname, mono=True, duration=5)\n",
    "        plt.specgram(y, NFFT=2048, Fs=2, Fc=0, noverlap=128, cmap=cmap, sides='default', mode='default', scale='dB');\n",
    "        plt.axis('off');\n",
    "        plt.savefig(f'img_data/{g}/{filename[:-3].replace(\".\", \"\")}.png')\n",
    "        plt.clf()"
   ]
  },
  {
   "cell_type": "code",
   "execution_count": null,
   "metadata": {},
   "outputs": [],
   "source": [
    "header = 'filename chroma_stft rmse spectral_centroid rolloff zero_crossing_rate tone0 tone1 tone2 tone3 tone4 tone5 key mode tempo onset loudness'\n",
    "for i in range(1, 21):\n",
    "    header += f' mfcc{i}'\n",
    "header += ' label'\n",
    "header = header.split()"
   ]
  },
  {
   "cell_type": "code",
   "execution_count": 19,
   "metadata": {},
   "outputs": [],
   "source": [
    "header = 'pulse label'\n",
    "header = header.split()"
   ]
  },
  {
   "cell_type": "code",
   "execution_count": null,
   "metadata": {},
   "outputs": [],
   "source": [
    "#key and mode\n",
    "def key(y):\n",
    "\n",
    "    def ks_key(X):\n",
    " \n",
    "        X = scipy.stats.zscore(X)\n",
    "    \n",
    "        # Coefficients from Kumhansl and Schmuckler\n",
    "        major = np.asarray([6.35, 2.23, 3.48, 2.33, 4.38, 4.09, 2.52, 5.19, 2.39, 3.66, 2.29, 2.88])\n",
    "        major = scipy.stats.zscore(major)\n",
    "    \n",
    "        minor = np.asarray([6.33, 2.68, 3.52, 5.38, 2.60, 3.53, 2.54, 4.75, 3.98, 2.69, 3.34, 3.17])\n",
    "        minor = scipy.stats.zscore(minor)\n",
    "    \n",
    "        # Generate all rotations of major\n",
    "        major = scipy.linalg.circulant(major)\n",
    "        minor = scipy.linalg.circulant(minor)\n",
    "    \n",
    "        return major.T.dot(X), minor.T.dot(X)\n",
    "    \n",
    "    maxm=0\n",
    "    key_list=[\"C\", \"C#\", \"D\", \"D#\", \"E\", \"F\", \"F#\", \"G\", \"G#\", \"A\", \"A#\", \"B\"]\n",
    "    mode=None\n",
    "    for i in range(12):\n",
    "        for j in range(2):\n",
    "            if maxm < abs(np.nanmean(ks_key(chromagram)[j][i])):\n",
    "                mode=i,j\n",
    "                maxm=abs(np.nanmean(ks_key(chromagram)[j][i]))\n",
    "    return mode\n",
    "key(y)"
   ]
  },
  {
   "cell_type": "code",
   "execution_count": null,
   "metadata": {},
   "outputs": [],
   "source": [
    "def loud(y):\n",
    "    \n",
    "    S = lr.stft(y)**2\n",
    "    power = np.abs(S)**2\n",
    "    p_mean = np.sum(power, axis=0, keepdims=True)\n",
    "    p_ref = np.max(power)  # or whatever other reference power you want to use\n",
    "    loudness = lr.power_to_db(p_mean, ref=p_ref)\n",
    "    return np.nanmedian(loudness)\n"
   ]
  },
  {
   "cell_type": "code",
   "execution_count": null,
   "metadata": {},
   "outputs": [],
   "source": [
    "y_har = librosa.effects.harmonic(y)\n",
    "\n",
    "print(np.mean(tone.T,axis=0))"
   ]
  },
  {
   "cell_type": "markdown",
   "metadata": {},
   "source": [
    "Write Features into a CSV File."
   ]
  },
  {
   "cell_type": "code",
   "execution_count": null,
   "metadata": {},
   "outputs": [],
   "source": [
    "file = open('data.csv', 'w', newline='')\n",
    "with file:\n",
    "    writer = csv.writer(file)\n",
    "    writer.writerow(header)\n",
    "genres = 'blues classical country disco hiphop jazz metal pop reggae rock'.split()\n",
    "for g in genres:\n",
    "    for filename in os.listdir(f'G:/genres/{g}'):\n",
    "        \n",
    "        songname = f'G:/genres/{g}/{filename}'\n",
    "        y, sr = lr.load(songname, mono=True, duration=30)\n",
    "        \n",
    "        chroma_stft = lr.feature.chroma_stft(y=y, sr=sr)\n",
    "        rmse = lr.feature.rms(y=y)\n",
    "        spec_cent = lr.feature.spectral_centroid(y=y, sr=sr)\n",
    "\n",
    "        rolloff = lr.feature.spectral_rolloff(y=y, sr=sr)\n",
    "        zcr = lr.feature.zero_crossing_rate(y)\n",
    "        mfcc = lr.feature.mfcc(y=y, sr=sr)\n",
    "        y_harmonic, y_percussive = lr.effects.hpss(y)\n",
    "        \n",
    "        mode = key(y)\n",
    "        \n",
    "        onset_env = lr.onset.onset_strength(y,sr=sr)\n",
    "        tempo = lr.beat.tempo(onset_envelope=onset_env, aggregate= None)\n",
    "        prior = scipy.stats.lognorm(loc=np.log(120), scale=120, s=1)\n",
    "        pulse_lognorm = librosa.beat.plp(onset_envelope=onset_env, sr=sr,prior=prior)\n",
    "        \n",
    "        loudness = loud(y)\n",
    "        \n",
    "        to_append = f'{filename} {np.mean(chroma_stft)} {np.mean(rmse)} {np.mean(spec_cent)} {np.mean(rolloff)} {np.mean(zcr)} {mode[0]} {mode[1]} {np.mean(tempo)} {np.nanmean(onset_env)} {loudness} {np.mean()}'    \n",
    "        for e in mfcc:\n",
    "            to_append += f' {np.mean(e)}'\n",
    "        to_append += f' {g}'\n",
    "        file = open('data.csv', 'a', newline='')\n",
    "        with file:\n",
    "            writer = csv.writer(file)\n",
    "            writer.writerow(to_append.split())"
   ]
  },
  {
   "cell_type": "code",
   "execution_count": null,
   "metadata": {},
   "outputs": [],
   "source": [
    "file = open('data2.csv', 'w', newline='')\n",
    "with file:\n",
    "    writer = csv.writer(file)\n",
    "    writer.writerow(header)\n",
    "genres = 'blues classical country disco hiphop jazz metal pop reggae rock'.split()\n",
    "\n",
    "for g in genres:\n",
    "    for filename in os.listdir(f'G:/genres/{g}'):\n",
    "        \n",
    "        songname = f'G:/genres/{g}/{filename}'\n",
    "        y, sr = lr.load(songname, mono=True, duration=30)\n",
    "        \n",
    "        y_harmonic, y_percussive = lr.effects.hpss(y)\n",
    "        \n",
    "          \n",
    "        to_append = f'{np.mean(pulse_lognorm)}'\n",
    "        \n",
    "        to_append += f' {g}'\n",
    "        file = open('data2.csv', 'a', newline='')\n",
    "        with file:\n",
    "            writer = csv.writer(file)\n",
    "            writer.writerow(to_append.split())"
   ]
  },
  {
   "cell_type": "code",
   "execution_count": 4,
   "metadata": {},
   "outputs": [
    {
     "data": {
      "text/html": [
       "<div>\n",
       "<style scoped>\n",
       "    .dataframe tbody tr th:only-of-type {\n",
       "        vertical-align: middle;\n",
       "    }\n",
       "\n",
       "    .dataframe tbody tr th {\n",
       "        vertical-align: top;\n",
       "    }\n",
       "\n",
       "    .dataframe thead th {\n",
       "        text-align: right;\n",
       "    }\n",
       "</style>\n",
       "<table border=\"1\" class=\"dataframe\">\n",
       "  <thead>\n",
       "    <tr style=\"text-align: right;\">\n",
       "      <th></th>\n",
       "      <th>filename</th>\n",
       "      <th>chroma_stft</th>\n",
       "      <th>rmse</th>\n",
       "      <th>spectral_centroid</th>\n",
       "      <th>rolloff</th>\n",
       "      <th>zero_crossing_rate</th>\n",
       "      <th>pitches</th>\n",
       "      <th>pulse</th>\n",
       "      <th>tone0</th>\n",
       "      <th>tone1</th>\n",
       "      <th>...</th>\n",
       "      <th>mfcc12</th>\n",
       "      <th>mfcc13</th>\n",
       "      <th>mfcc14</th>\n",
       "      <th>mfcc15</th>\n",
       "      <th>mfcc16</th>\n",
       "      <th>mfcc17</th>\n",
       "      <th>mfcc18</th>\n",
       "      <th>mfcc19</th>\n",
       "      <th>mfcc20</th>\n",
       "      <th>label</th>\n",
       "    </tr>\n",
       "  </thead>\n",
       "  <tbody>\n",
       "    <tr>\n",
       "      <td>0</td>\n",
       "      <td>blues.00000.wav</td>\n",
       "      <td>0.349943</td>\n",
       "      <td>0.130225</td>\n",
       "      <td>1784.420446</td>\n",
       "      <td>3806.485316</td>\n",
       "      <td>0.083066</td>\n",
       "      <td>-0.20</td>\n",
       "      <td>0.264277</td>\n",
       "      <td>-0.004061</td>\n",
       "      <td>0.011301</td>\n",
       "      <td>...</td>\n",
       "      <td>8.810669</td>\n",
       "      <td>-3.667369</td>\n",
       "      <td>5.751690</td>\n",
       "      <td>-5.162763</td>\n",
       "      <td>0.750948</td>\n",
       "      <td>-1.691938</td>\n",
       "      <td>-0.409953</td>\n",
       "      <td>-2.300209</td>\n",
       "      <td>1.219929</td>\n",
       "      <td>blues</td>\n",
       "    </tr>\n",
       "    <tr>\n",
       "      <td>1</td>\n",
       "      <td>blues.00001.wav</td>\n",
       "      <td>0.340983</td>\n",
       "      <td>0.095918</td>\n",
       "      <td>1529.835316</td>\n",
       "      <td>3548.820207</td>\n",
       "      <td>0.056044</td>\n",
       "      <td>0.00</td>\n",
       "      <td>0.217210</td>\n",
       "      <td>-0.014503</td>\n",
       "      <td>0.019443</td>\n",
       "      <td>...</td>\n",
       "      <td>5.376803</td>\n",
       "      <td>-2.239120</td>\n",
       "      <td>4.216963</td>\n",
       "      <td>-6.012273</td>\n",
       "      <td>0.936110</td>\n",
       "      <td>-0.716537</td>\n",
       "      <td>0.293876</td>\n",
       "      <td>-0.287431</td>\n",
       "      <td>0.531574</td>\n",
       "      <td>blues</td>\n",
       "    </tr>\n",
       "    <tr>\n",
       "      <td>2</td>\n",
       "      <td>blues.00002.wav</td>\n",
       "      <td>0.363603</td>\n",
       "      <td>0.175573</td>\n",
       "      <td>1552.481958</td>\n",
       "      <td>3040.514948</td>\n",
       "      <td>0.076301</td>\n",
       "      <td>-0.19</td>\n",
       "      <td>0.262755</td>\n",
       "      <td>0.023037</td>\n",
       "      <td>0.024269</td>\n",
       "      <td>...</td>\n",
       "      <td>5.789265</td>\n",
       "      <td>-8.905224</td>\n",
       "      <td>-1.083720</td>\n",
       "      <td>-9.218359</td>\n",
       "      <td>2.455806</td>\n",
       "      <td>-7.726901</td>\n",
       "      <td>-1.815723</td>\n",
       "      <td>-3.433434</td>\n",
       "      <td>-2.226821</td>\n",
       "      <td>blues</td>\n",
       "    </tr>\n",
       "    <tr>\n",
       "      <td>3</td>\n",
       "      <td>blues.00003.wav</td>\n",
       "      <td>0.404779</td>\n",
       "      <td>0.141191</td>\n",
       "      <td>1070.119953</td>\n",
       "      <td>2185.028454</td>\n",
       "      <td>0.033309</td>\n",
       "      <td>0.26</td>\n",
       "      <td>0.215624</td>\n",
       "      <td>0.018818</td>\n",
       "      <td>-0.001056</td>\n",
       "      <td>...</td>\n",
       "      <td>6.087676</td>\n",
       "      <td>-2.476421</td>\n",
       "      <td>-1.073891</td>\n",
       "      <td>-2.874778</td>\n",
       "      <td>0.780977</td>\n",
       "      <td>-3.316932</td>\n",
       "      <td>0.637981</td>\n",
       "      <td>-0.619690</td>\n",
       "      <td>-3.408233</td>\n",
       "      <td>blues</td>\n",
       "    </tr>\n",
       "    <tr>\n",
       "      <td>4</td>\n",
       "      <td>blues.00004.wav</td>\n",
       "      <td>0.308590</td>\n",
       "      <td>0.091563</td>\n",
       "      <td>1835.494603</td>\n",
       "      <td>3580.945013</td>\n",
       "      <td>0.101500</td>\n",
       "      <td>-0.37</td>\n",
       "      <td>0.187879</td>\n",
       "      <td>-0.029286</td>\n",
       "      <td>-0.019756</td>\n",
       "      <td>...</td>\n",
       "      <td>-2.806384</td>\n",
       "      <td>-6.934123</td>\n",
       "      <td>-7.558618</td>\n",
       "      <td>-9.173553</td>\n",
       "      <td>-4.512165</td>\n",
       "      <td>-5.453538</td>\n",
       "      <td>-0.924161</td>\n",
       "      <td>-4.409333</td>\n",
       "      <td>-11.703780</td>\n",
       "      <td>blues</td>\n",
       "    </tr>\n",
       "  </tbody>\n",
       "</table>\n",
       "<p>5 rows × 41 columns</p>\n",
       "</div>"
      ],
      "text/plain": [
       "          filename  chroma_stft      rmse  spectral_centroid      rolloff  \\\n",
       "0  blues.00000.wav     0.349943  0.130225        1784.420446  3806.485316   \n",
       "1  blues.00001.wav     0.340983  0.095918        1529.835316  3548.820207   \n",
       "2  blues.00002.wav     0.363603  0.175573        1552.481958  3040.514948   \n",
       "3  blues.00003.wav     0.404779  0.141191        1070.119953  2185.028454   \n",
       "4  blues.00004.wav     0.308590  0.091563        1835.494603  3580.945013   \n",
       "\n",
       "   zero_crossing_rate  pitches     pulse     tone0     tone1  ...    mfcc12  \\\n",
       "0            0.083066    -0.20  0.264277 -0.004061  0.011301  ...  8.810669   \n",
       "1            0.056044     0.00  0.217210 -0.014503  0.019443  ...  5.376803   \n",
       "2            0.076301    -0.19  0.262755  0.023037  0.024269  ...  5.789265   \n",
       "3            0.033309     0.26  0.215624  0.018818 -0.001056  ...  6.087676   \n",
       "4            0.101500    -0.37  0.187879 -0.029286 -0.019756  ... -2.806384   \n",
       "\n",
       "     mfcc13    mfcc14    mfcc15    mfcc16    mfcc17    mfcc18    mfcc19  \\\n",
       "0 -3.667369  5.751690 -5.162763  0.750948 -1.691938 -0.409953 -2.300209   \n",
       "1 -2.239120  4.216963 -6.012273  0.936110 -0.716537  0.293876 -0.287431   \n",
       "2 -8.905224 -1.083720 -9.218359  2.455806 -7.726901 -1.815723 -3.433434   \n",
       "3 -2.476421 -1.073891 -2.874778  0.780977 -3.316932  0.637981 -0.619690   \n",
       "4 -6.934123 -7.558618 -9.173553 -4.512165 -5.453538 -0.924161 -4.409333   \n",
       "\n",
       "      mfcc20  label  \n",
       "0   1.219929  blues  \n",
       "1   0.531574  blues  \n",
       "2  -2.226821  blues  \n",
       "3  -3.408233  blues  \n",
       "4 -11.703780  blues  \n",
       "\n",
       "[5 rows x 41 columns]"
      ]
     },
     "execution_count": 4,
     "metadata": {},
     "output_type": "execute_result"
    }
   ],
   "source": [
    "data = pd.read_csv('data.csv')\n",
    "data.head()"
   ]
  },
  {
   "cell_type": "code",
   "execution_count": 5,
   "metadata": {},
   "outputs": [],
   "source": [
    "# Dropping unneccesary columns\n",
    "data = data.drop(['filename'],axis=1)"
   ]
  },
  {
   "cell_type": "code",
   "execution_count": 6,
   "metadata": {},
   "outputs": [
    {
     "data": {
      "text/plain": [
       "(1000, 40)"
      ]
     },
     "execution_count": 6,
     "metadata": {},
     "output_type": "execute_result"
    }
   ],
   "source": [
    "data.shape"
   ]
  },
  {
   "cell_type": "code",
   "execution_count": 7,
   "metadata": {},
   "outputs": [],
   "source": [
    "genre_list = data.iloc[:, -1]\n",
    "encoder = LabelEncoder()\n",
    "y = encoder.fit_transform(genre_list)"
   ]
  },
  {
   "cell_type": "code",
   "execution_count": null,
   "metadata": {},
   "outputs": [],
   "source": []
  },
  {
   "cell_type": "code",
   "execution_count": 8,
   "metadata": {},
   "outputs": [],
   "source": [
    "scaler = StandardScaler()\n",
    "X = scaler.fit_transform(np.array(data.iloc[:, :-1], dtype = float))"
   ]
  },
  {
   "cell_type": "code",
   "execution_count": 9,
   "metadata": {},
   "outputs": [],
   "source": [
    "X_train, X_test, y_train, y_test = train_test_split(X, y, test_size=0.2)"
   ]
  },
  {
   "cell_type": "code",
   "execution_count": 10,
   "metadata": {},
   "outputs": [
    {
     "data": {
      "image/png": "[encoded data removed]",
      "text/plain": [
       "<Figure size 432x288 with 1 Axes>"
      ]
     },
     "metadata": {
      "needs_background": "light"
     },
     "output_type": "display_data"
    }
   ],
   "source": [
    "from sklearn.feature_selection import SelectPercentile, f_classif\n",
    "from sklearn.model_selection import cross_val_score\n",
    "from sklearn.pipeline import Pipeline\n",
    "\n",
    "clf = Pipeline([('anova', SelectPercentile(f_classif)),\n",
    "                ('scaler', StandardScaler()),\n",
    "                ('svc', SVC(kernel='rbf'))])\n",
    "\n",
    "score_means = list()\n",
    "score_stds = list()\n",
    "percentiles = (1, 3, 6, 10, 15, 20, 30, 40, 60, 80, 100)\n",
    "\n",
    "for percentile in percentiles:\n",
    "    clf.set_params(anova__percentile=percentile)\n",
    "    this_scores = cross_val_score(clf, X_train, y_train)\n",
    "    score_means.append(this_scores.mean())\n",
    "    score_stds.append(this_scores.std())\n",
    "\n",
    "plt.errorbar(percentiles, score_means, np.array(score_stds))\n",
    "plt.title(\n",
    "    'Performance of the SVM-Anova varying the percentile of features selected')\n",
    "plt.xticks(np.linspace(0, 100, 11, endpoint=True))\n",
    "plt.xlabel('Percentile')\n",
    "plt.ylabel('Accuracy Score')\n",
    "plt.axis('tight')\n",
    "plt.show()"
   ]
  },
  {
   "cell_type": "code",
   "execution_count": 11,
   "metadata": {},
   "outputs": [
    {
     "data": {
      "text/plain": [
       "800"
      ]
     },
     "execution_count": 11,
     "metadata": {},
     "output_type": "execute_result"
    }
   ],
   "source": [
    "len(y_train)"
   ]
  },
  {
   "cell_type": "code",
   "execution_count": 12,
   "metadata": {},
   "outputs": [
    {
     "data": {
      "text/plain": [
       "200"
      ]
     },
     "execution_count": 12,
     "metadata": {},
     "output_type": "execute_result"
    }
   ],
   "source": [
    "len(y_test)"
   ]
  },
  {
   "cell_type": "code",
   "execution_count": 14,
   "metadata": {},
   "outputs": [
    {
     "data": {
      "text/plain": [
       "SVC(C=1.0, cache_size=200, class_weight=None, coef0=0.0,\n",
       "    decision_function_shape='ovr', degree=3, gamma='auto_deprecated',\n",
       "    kernel='rbf', max_iter=-1, probability=False, random_state=None,\n",
       "    shrinking=True, tol=0.001, verbose=False)"
      ]
     },
     "execution_count": 14,
     "metadata": {},
     "output_type": "execute_result"
    }
   ],
   "source": [
    "svclassifier = SVC(kernel='rbf')\n",
    "svclassifier.fit(X_train, y_train)"
   ]
  },
  {
   "cell_type": "code",
   "execution_count": 15,
   "metadata": {},
   "outputs": [],
   "source": [
    "y_pred = svclassifier.predict(X_test)"
   ]
  },
  {
   "cell_type": "code",
   "execution_count": 16,
   "metadata": {},
   "outputs": [
    {
     "name": "stdout",
     "output_type": "stream",
     "text": [
      "[[15  0  1  0  0  1  0  0  0  1]\n",
      " [ 0 18  0  0  0  1  0  0  0  0]\n",
      " [ 1  0 12  0  0  3  0  0  0  1]\n",
      " [ 0  1  0 12  5  0  2  3  2  3]\n",
      " [ 1  0  0  1 17  0  0  1  1  1]\n",
      " [ 2  3  2  0  0 11  0  0  0  0]\n",
      " [ 2  0  1  0  1  0 19  0  0  0]\n",
      " [ 0  0  2  1  0  0  0 12  1  0]\n",
      " [ 1  0  0  0  3  0  0  1 13  2]\n",
      " [ 1  0  3  4  0  1  1  1  0  8]]\n",
      "              precision    recall  f1-score   support\n",
      "\n",
      "           0       0.65      0.83      0.73        18\n",
      "           1       0.82      0.95      0.88        19\n",
      "           2       0.57      0.71      0.63        17\n",
      "           3       0.67      0.43      0.52        28\n",
      "           4       0.65      0.77      0.71        22\n",
      "           5       0.65      0.61      0.63        18\n",
      "           6       0.86      0.83      0.84        23\n",
      "           7       0.67      0.75      0.71        16\n",
      "           8       0.76      0.65      0.70        20\n",
      "           9       0.50      0.42      0.46        19\n",
      "\n",
      "    accuracy                           0.69       200\n",
      "   macro avg       0.68      0.69      0.68       200\n",
      "weighted avg       0.69      0.69      0.68       200\n",
      "\n"
     ]
    }
   ],
   "source": [
    "from sklearn.metrics import classification_report, confusion_matrix, log_loss\n",
    "print(confusion_matrix(y_test,y_pred))\n",
    "print(classification_report(y_test,y_pred))"
   ]
  }
 ],
 "metadata": {
  "kernelspec": {
   "display_name": "Python 3",
   "language": "python",
   "name": "python3"
  },
  "language_info": {
   "codemirror_mode": {
    "name": "ipython",
    "version": 3
   },
   "file_extension": ".py",
   "mimetype": "text/x-python",
   "name": "python",
   "nbconvert_exporter": "python",
   "pygments_lexer": "ipython3",
   "version": "3.7.4"
  }
 },
 "nbformat": 4,
 "nbformat_minor": 2
}
